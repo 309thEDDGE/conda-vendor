{
 "cells": [
  {
   "cell_type": "code",
   "execution_count": 14,
   "metadata": {},
   "outputs": [],
   "source": [
    "class CondaLockWrapper:\n",
    "    def __init__(self, platform=\"linux-64\"):\n",
    "        self.platform = platform\n",
    "        self.specs = None\n",
    "        self.solution = None\n",
    "        self.channels = []\n",
    "\n",
    "    def parse(self, environment_yml):\n",
    "        parse_return  = parse_environment_file(environment_yml, self.platform)\n",
    "        self.specs = parse_return.specs\n",
    "        self.channels = parse_return.channels\n",
    "        return self.specs\n",
    "\n",
    "    def solve(self, specs, channels=['main']):\n",
    "        solved_env = solve_specs_for_arch(\n",
    "            \"conda\", channels, specs=specs, platform=\"linux-64\"\n",
    "        )\n",
    "        self.solution_fetch = solved_env[\"actions\"][\"FETCH\"]\n",
    "        self.solution_link = solved_env[\"actions\"][\"LINK\"]\n",
    "        return self.solution\n",
    "\n",
    "    def solution_from_environment(self, environment_yml):\n",
    "        self.parse(environment_yml)\n",
    "        return self.solve(self.specs, self.channels)"
   ]
  },
  {
   "cell_type": "code",
   "execution_count": 7,
   "metadata": {},
   "outputs": [],
   "source": [
    "import pathlib\n",
    "from conda_lock.conda_lock import solve_specs_for_arch\n",
    "from conda_lock.src_parser.environment_yaml import parse_environment_file"
   ]
  },
  {
   "cell_type": "code",
   "execution_count": 11,
   "metadata": {},
   "outputs": [],
   "source": [
    "parse = parse_environment_file(pathlib.Path(\"./env_test.yaml\"), platform=\"linux-64\")"
   ]
  },
  {
   "cell_type": "code",
   "execution_count": 18,
   "metadata": {},
   "outputs": [
    {
     "data": {
      "text/plain": [
       "[]"
      ]
     },
     "execution_count": 18,
     "metadata": {},
     "output_type": "execute_result"
    }
   ],
   "source": [
    "wrapper = CondaLockWrapper(\"linux-64\")\n"
   ]
  },
  {
   "cell_type": "code",
   "execution_count": 21,
   "metadata": {},
   "outputs": [],
   "source": [
    "repo_data = {\n",
    "        \"info\": {\"subdir\": \"linux-64\"},\n",
    "        \"packages\": {\n",
    "            \"python-3.9.5-h12debd9_4.tar.bz2\": {\n",
    "                \"build\": \"h12debd9_4\",\n",
    "                \"build_number\": 4,\n",
    "                \"depends\": [\n",
    "                    \"ld_impl_linux-64\",\n",
    "                    \"libffi >=3.3,<3.4.0a0\",\n",
    "                    \"libgcc-ng >=7.5.0\",\n",
    "                    \"libstdcxx-ng >=7.5.0\",\n",
    "                    \"ncurses >=6.2,<7.0a0\",\n",
    "                    \"openssl >=1.1.1k,<1.1.2a\",\n",
    "                    \"readline >=8.0,<9.0a0\",\n",
    "                    \"sqlite >=3.35.4,<4.0a0\",\n",
    "                    \"tk >=8.6.10,<8.7.0a0\",\n",
    "                    \"tzdata\",\n",
    "                    \"xz >=5.2.5,<6.0a0\",\n",
    "                    \"zlib >=1.2.11,<1.3.0a0\",\n",
    "                ],\n",
    "                \"license\": \"Python-2.0\",\n",
    "                \"md5\": \"eb1bc6ccb2cbb43adb5a09e5802efef8\",\n",
    "                \"name\": \"python\",\n",
    "                \"sha256\": \"7fc98fe684cb716a8d19cf20a77ccce3cda3f6da968abaade63edbe006d8f3ba\",\n",
    "                \"size\": 23740654,\n",
    "                \"subdir\": \"linux-64\",\n",
    "                \"timestamp\": 1622828217909,\n",
    "                \"version\": \"3.9.5\",\n",
    "            },\n",
    "            \"_openmp_mutex-4.5-1_gnu.tar.bz2\": {\n",
    "                \"build\": \"1_gnu\",\n",
    "                \"build_number\": 17,\n",
    "                \"constrains\": [\"openmp_impl 9999\"],\n",
    "                \"depends\": [\"_libgcc_mutex 0.1 main\", \"libgomp >=7.5.0\"],\n",
    "                \"license\": \"BSD-3-Clause\",\n",
    "                \"md5\": \"84414b0edb0a36bd7e25fc4936c1abb5\",\n",
    "                \"name\": \"_openmp_mutex\",\n",
    "                \"sha256\": \"2c269ff2e33d3c158b4744485b7fe11ee132814c55a70b33b3e68d588375d465\",\n",
    "                \"size\": 22165,\n",
    "                \"subdir\": \"linux-64\",\n",
    "                \"timestamp\": 1612961522265,\n",
    "                \"version\": \"4.5\",\n",
    "            },\n",
    "        },\n",
    "        \"packages.conda\": {\n",
    "            \"tk-8.6.10-hbc83047_0.conda\": {\n",
    "                \"build\": \"hbc83047_0\",\n",
    "                \"build_number\": 0,\n",
    "                \"depends\": [\"libgcc-ng >=7.3.0\", \"zlib >=1.2.11,<1.3.0a0\"],\n",
    "                \"license\": \"Tcl/Tk\",\n",
    "                \"license_family\": \"BSD\",\n",
    "                \"md5\": \"9ba14aaba4818a66c820f85f5bf34ca0\",\n",
    "                \"name\": \"tk\",\n",
    "                \"sha256\": \"99fba40357115be361759731fc5a19b7833b4884310f2851f3faadbf33484991\",\n",
    "                \"size\": 3108365,\n",
    "                \"subdir\": \"linux-64\",\n",
    "                \"timestamp\": 1592503345885,\n",
    "                \"version\": \"8.6.10\",\n",
    "            },\n",
    "            \"xz-5.2.5-h7b6447c_0.conda\": {\n",
    "                \"build\": \"h7b6447c_0\",\n",
    "                \"build_number\": 0,\n",
    "                \"depends\": [\"libgcc-ng >=7.3.0\"],\n",
    "                \"license\": \"LGPL-2.1 and GPL-2.0\",\n",
    "                \"md5\": \"73a16ea8ba890175a1ce94a3a87c8f68\",\n",
    "                \"name\": \"xz\",\n",
    "                \"sha256\": \"58045af0e1f23ea72b6759c4f5aac3e2fb98da9585758853d09961126d66f9ce\",\n",
    "                \"size\": 349481,\n",
    "                \"subdir\": \"linux-64\",\n",
    "                \"timestamp\": 1587011767250,\n",
    "                \"version\": \"5.2.5\",\n",
    "            },\n",
    "        },\n",
    "    }"
   ]
  },
  {
   "cell_type": "markdown",
   "metadata": {},
   "source": [
    "## Make a repo data from fetch "
   ]
  },
  {
   "cell_type": "code",
   "execution_count": 24,
   "metadata": {},
   "outputs": [
    {
     "data": {
      "text/plain": [
       "dict_keys(['info', 'packages', 'packages.conda'])"
      ]
     },
     "execution_count": 24,
     "metadata": {},
     "output_type": "execute_result"
    }
   ],
   "source": [
    "repo_data.keys()"
   ]
  },
  {
   "cell_type": "code",
   "execution_count": 46,
   "metadata": {},
   "outputs": [
    {
     "data": {
      "text/plain": [
       "dict_keys(['build', 'build_number', 'depends', 'license', 'md5', 'name', 'sha256', 'size', 'subdir', 'timestamp', 'version'])"
      ]
     },
     "execution_count": 46,
     "metadata": {},
     "output_type": "execute_result"
    }
   ],
   "source": [
    "\n",
    "keys_for_package = repo_data['packages']['python-3.9.5-h12debd9_4.tar.bz2'].keys()\n",
    "keys_for_package"
   ]
  },
  {
   "cell_type": "code",
   "execution_count": 19,
   "metadata": {},
   "outputs": [
    {
     "data": {
      "text/plain": [
       "['main', 'conda-forge']"
      ]
     },
     "execution_count": 19,
     "metadata": {},
     "output_type": "execute_result"
    }
   ],
   "source": [
    "wrapper.parse(pathlib.Path(\"./env_test.yaml\"))\n",
    "wrapper.channels\n"
   ]
  },
  {
   "cell_type": "code",
   "execution_count": 20,
   "metadata": {},
   "outputs": [],
   "source": [
    "wrapper.solve(wrapper.specs, wrapper.channels)"
   ]
  },
  {
   "cell_type": "code",
   "execution_count": 38,
   "metadata": {},
   "outputs": [],
   "source": [
    "test_repo_data = {\"linux-64\" : {\"info\" : {},\n",
    "                   \"packges\":{},\n",
    "                   \"packges.conda\" : {}}, \n",
    "                  \"noarch\" : {\"info\" : {},\n",
    "                   \"packges\":{},\n",
    "                   \"packges.conda\" : {}}                 \n",
    "                \n",
    "}"
   ]
  },
  {
   "cell_type": "code",
   "execution_count": 44,
   "metadata": {},
   "outputs": [
    {
     "data": {
      "text/plain": [
       "{'arch': 'x86_64',\n",
       " 'build': 'h7b6447c_0',\n",
       " 'build_number': 0,\n",
       " 'channel': 'https://conda.anaconda.org/main/linux-64',\n",
       " 'constrains': [],\n",
       " 'depends': ['libgcc-ng >=7.3.0'],\n",
       " 'fn': 'libsodium-1.0.18-h7b6447c_0.tar.bz2',\n",
       " 'license': 'ISC',\n",
       " 'md5': '6f662c6b244a444869f0c537da106d6d',\n",
       " 'name': 'libsodium',\n",
       " 'platform': 'linux',\n",
       " 'sha256': 'e31aa60464b87c49b12d3baa2f95f92486238246810845365b10d53aab0809ff',\n",
       " 'size': 396743,\n",
       " 'subdir': 'linux-64',\n",
       " 'timestamp': 1581700759428,\n",
       " 'url': 'https://conda.anaconda.org/main/linux-64/libsodium-1.0.18-h7b6447c_0.tar.bz2',\n",
       " 'version': '1.0.18'}"
      ]
     },
     "execution_count": 44,
     "metadata": {},
     "output_type": "execute_result"
    }
   ],
   "source": [
    "wrapper.solution_fetch[0]"
   ]
  },
  {
   "cell_type": "code",
   "execution_count": null,
   "metadata": {},
   "outputs": [],
   "source": [
    "def create_vendor_manifest(solution_fetch):\n",
    "    vendor_manifest_list = []\n",
    "    for conda_lock_fetch_info in solution_fetch:\n",
    "        \n",
    "        \n",
    "    "
   ]
  },
  {
   "cell_type": "code",
   "execution_count": null,
   "metadata": {},
   "outputs": [],
   "source": []
  },
  {
   "cell_type": "code",
   "execution_count": null,
   "metadata": {},
   "outputs": [],
   "source": []
  },
  {
   "cell_type": "code",
   "execution_count": null,
   "metadata": {},
   "outputs": [],
   "source": []
  },
  {
   "cell_type": "code",
   "execution_count": null,
   "metadata": {},
   "outputs": [],
   "source": []
  },
  {
   "cell_type": "code",
   "execution_count": null,
   "metadata": {},
   "outputs": [],
   "source": []
  }
 ],
 "metadata": {
  "interpreter": {
   "hash": "b6c3259a0fa2785b201d7b931496f2d582e1068285b27c9ef64006291d1464c4"
  },
  "kernelspec": {
   "display_name": "Python 3.9.5 64-bit ('conda_vendor': conda)",
   "name": "python3"
  },
  "language_info": {
   "name": "python",
   "version": ""
  }
 },
 "nbformat": 4,
 "nbformat_minor": 5
}